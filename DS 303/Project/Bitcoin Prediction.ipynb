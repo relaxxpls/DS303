{
 "cells": [
  {
   "cell_type": "markdown",
   "id": "41422075-00ea-40b7-bfcd-4949e0c8dbff",
   "metadata": {},
   "source": [
    "# Bitcoin Opening Price Prediction (using LSTM)\n",
    "\n",
    "* Dataset: [coin_Bitcoin.csv](https://www.kaggle.com/sudalairajkumar/cryptocurrencypricehistory?select=coin_Bitcoin.csv)\n",
    "* Author: Laxman Desai"
   ]
  },
  {
   "cell_type": "markdown",
   "id": "0fe541e5-4102-484c-962f-afc6784d0555",
   "metadata": {},
   "source": [
    "## Initialization"
   ]
  },
  {
   "cell_type": "code",
   "execution_count": 1,
   "id": "0be33dba-0220-4cba-a804-bf03de4aedc8",
   "metadata": {},
   "outputs": [],
   "source": [
    "%matplotlib ipympl\n",
    "import pandas as pd\n",
    "import numpy as np\n",
    "import matplotlib.pyplot as plt"
   ]
  },
  {
   "cell_type": "code",
   "execution_count": 2,
   "id": "ac1ae72d-9666-4895-b8ae-a2894d9e7927",
   "metadata": {},
   "outputs": [
    {
     "data": {
      "text/html": [
       "<div>\n",
       "<style scoped>\n",
       "    .dataframe tbody tr th:only-of-type {\n",
       "        vertical-align: middle;\n",
       "    }\n",
       "\n",
       "    .dataframe tbody tr th {\n",
       "        vertical-align: top;\n",
       "    }\n",
       "\n",
       "    .dataframe thead th {\n",
       "        text-align: right;\n",
       "    }\n",
       "</style>\n",
       "<table border=\"1\" class=\"dataframe\">\n",
       "  <thead>\n",
       "    <tr style=\"text-align: right;\">\n",
       "      <th></th>\n",
       "      <th>High</th>\n",
       "      <th>Low</th>\n",
       "      <th>Open</th>\n",
       "      <th>Close</th>\n",
       "    </tr>\n",
       "    <tr>\n",
       "      <th>Date</th>\n",
       "      <th></th>\n",
       "      <th></th>\n",
       "      <th></th>\n",
       "      <th></th>\n",
       "    </tr>\n",
       "  </thead>\n",
       "  <tbody>\n",
       "    <tr>\n",
       "      <th>2013-04-29</th>\n",
       "      <td>147.488007</td>\n",
       "      <td>134.000000</td>\n",
       "      <td>134.444000</td>\n",
       "      <td>144.539993</td>\n",
       "    </tr>\n",
       "    <tr>\n",
       "      <th>2013-04-30</th>\n",
       "      <td>146.929993</td>\n",
       "      <td>134.050003</td>\n",
       "      <td>144.000000</td>\n",
       "      <td>139.000000</td>\n",
       "    </tr>\n",
       "    <tr>\n",
       "      <th>2013-05-01</th>\n",
       "      <td>139.889999</td>\n",
       "      <td>107.720001</td>\n",
       "      <td>139.000000</td>\n",
       "      <td>116.989998</td>\n",
       "    </tr>\n",
       "    <tr>\n",
       "      <th>2013-05-02</th>\n",
       "      <td>125.599998</td>\n",
       "      <td>92.281898</td>\n",
       "      <td>116.379997</td>\n",
       "      <td>105.209999</td>\n",
       "    </tr>\n",
       "    <tr>\n",
       "      <th>2013-05-03</th>\n",
       "      <td>108.127998</td>\n",
       "      <td>79.099998</td>\n",
       "      <td>106.250000</td>\n",
       "      <td>97.750000</td>\n",
       "    </tr>\n",
       "  </tbody>\n",
       "</table>\n",
       "</div>"
      ],
      "text/plain": [
       "                  High         Low        Open       Close\n",
       "Date                                                      \n",
       "2013-04-29  147.488007  134.000000  134.444000  144.539993\n",
       "2013-04-30  146.929993  134.050003  144.000000  139.000000\n",
       "2013-05-01  139.889999  107.720001  139.000000  116.989998\n",
       "2013-05-02  125.599998   92.281898  116.379997  105.209999\n",
       "2013-05-03  108.127998   79.099998  106.250000   97.750000"
      ]
     },
     "metadata": {},
     "output_type": "display_data"
    }
   ],
   "source": [
    "df = pd.read_csv('./dataset/coin_Bitcoin.csv')\n",
    "df.index = pd.to_datetime(df['Date']).dt.date\n",
    "\n",
    "df.drop(['Date', 'SNo', 'Name', 'Volume', 'Symbol', 'Marketcap'], axis='columns', inplace=True)\n",
    "feature = 'Close'\n",
    "\n",
    "display(df.head())"
   ]
  },
  {
   "cell_type": "code",
   "execution_count": 3,
   "id": "d6e43094-9aba-46e2-a133-ede2cd5e97d9",
   "metadata": {},
   "outputs": [
    {
     "name": "stdout",
     "output_type": "stream",
     "text": [
      "Dataset Shape: (2862, 4)\n",
      "\n",
      "<class 'pandas.core.frame.DataFrame'>\n",
      "Index: 2862 entries, 2013-04-29 to 2021-02-27\n",
      "Data columns (total 4 columns):\n",
      " #   Column  Non-Null Count  Dtype  \n",
      "---  ------  --------------  -----  \n",
      " 0   High    2862 non-null   float64\n",
      " 1   Low     2862 non-null   float64\n",
      " 2   Open    2862 non-null   float64\n",
      " 3   Close   2862 non-null   float64\n",
      "dtypes: float64(4)\n",
      "memory usage: 111.8+ KB\n"
     ]
    },
    {
     "data": {
      "text/plain": [
       "None"
      ]
     },
     "metadata": {},
     "output_type": "display_data"
    }
   ],
   "source": [
    "print(f'Dataset Shape: {df.shape}\\n')\n",
    "display(df.info())"
   ]
  },
  {
   "cell_type": "markdown",
   "id": "4421959a-4ee2-44dc-b81b-f7cd87cab27e",
   "metadata": {},
   "source": [
    "## Train-Test Split"
   ]
  },
  {
   "cell_type": "code",
   "execution_count": 4,
   "id": "1fa95c55-da45-4120-beb9-0e8556386554",
   "metadata": {},
   "outputs": [],
   "source": [
    "from sklearn.model_selection import train_test_split\n",
    "\n",
    "df_train, df_test = train_test_split(df, test_size=0.2, shuffle=False)"
   ]
  },
  {
   "cell_type": "markdown",
   "id": "a3542b5e-0d32-4b47-a213-f6f778184383",
   "metadata": {},
   "source": [
    "## Plotting Closing Prices"
   ]
  },
  {
   "cell_type": "code",
   "execution_count": 5,
   "id": "9e4cacb4-bd7e-4738-91e4-d19457e7e99d",
   "metadata": {},
   "outputs": [
    {
     "data": {
      "application/vnd.jupyter.widget-view+json": {
       "model_id": "8d0fc472808c4be5a0f7d5f2c2f1d86f",
       "version_major": 2,
       "version_minor": 0
      },
      "text/plain": [
       "Canvas(toolbar=Toolbar(toolitems=[('Home', 'Reset original view', 'home', 'home'), ('Back', 'Back to previous …"
      ]
     },
     "metadata": {},
     "output_type": "display_data"
    }
   ],
   "source": [
    "def line_plot(train, test, xlabel, ylabel, title):\n",
    "    fig, ax = plt.subplots(figsize=(12, 5))\n",
    "    ax.plot(train, label='Train')\n",
    "    ax.plot(test, label='Test')\n",
    "    ax.set_xlabel(xlabel, fontsize=12)\n",
    "    ax.set_ylabel(ylabel, fontsize=12)\n",
    "    ax.set_title(title, fontsize=16)\n",
    "    ax.legend(fontsize=12)\n",
    "\n",
    "line_plot(df_train[feature], df_test[feature], xlabel='Year', ylabel='Bitcoin Price (USD)',\n",
    "          title='Closing Price of Bitcoin')"
   ]
  },
  {
   "cell_type": "markdown",
   "id": "c7b22c37-23bd-4efd-8fcc-1d37395201de",
   "metadata": {},
   "source": [
    "## Data Preprocessing"
   ]
  },
  {
   "cell_type": "markdown",
   "id": "1a03e77c-fe75-4aa1-99d9-90f8ff6eca93",
   "metadata": {},
   "source": [
    "### Imputation\n",
    "\n",
    "* Needed if null values present"
   ]
  },
  {
   "cell_type": "code",
   "execution_count": 6,
   "id": "3cd54409-9bf8-4af9-ba34-93bb1f279eff",
   "metadata": {},
   "outputs": [
    {
     "data": {
      "text/plain": [
       "High     0\n",
       "Low      0\n",
       "Open     0\n",
       "Close    0\n",
       "dtype: int64"
      ]
     },
     "execution_count": 6,
     "metadata": {},
     "output_type": "execute_result"
    }
   ],
   "source": [
    "df.isnull().sum()"
   ]
  },
  {
   "cell_type": "markdown",
   "id": "2c9c11b2-9b72-4670-88aa-acb6e210e66f",
   "metadata": {},
   "source": [
    "### Feature Scaling"
   ]
  },
  {
   "cell_type": "code",
   "execution_count": 7,
   "id": "c00b64d8-3367-469d-bdc3-cf4a8893341c",
   "metadata": {},
   "outputs": [],
   "source": [
    "# from sklearn.preprocessing import MinMaxScaler\n",
    "\n",
    "# scaler = MinMaxScaler(feature_range=(0, 1))\n",
    "# scaler.fit(train)\n",
    "# train_scaled = pd.DataFrame(scaler.transform(train), index=train.index)\n",
    "# train_scaled.head()\n",
    "\n",
    "def scale(df):\n",
    "    return df / df.iloc[0] - 1\n",
    "\n",
    "def scale_feature(data, window_len):\n",
    "    return data[window_len:].values / data[:-window_len].values - 1"
   ]
  },
  {
   "cell_type": "code",
   "execution_count": 8,
   "id": "802f13ec-8f5b-4dad-9904-2655579c0d8d",
   "metadata": {},
   "outputs": [],
   "source": [
    "def to_time_windows(data, window_len):\n",
    "    window_list = []\n",
    "    for i in range(len(data) - window_len):\n",
    "        window = data[i:i+window_len]\n",
    "        window_list.append(scale(window).values)\n",
    "    return np.array(window_list)\n",
    "\n",
    "window_len = 5\n",
    "\n",
    "X_train = to_time_windows(df_train, window_len)\n",
    "X_test  = to_time_windows(df_test , window_len)\n",
    "y_train = scale_feature(df_train[feature], window_len)\n",
    "y_test  = scale_feature(df_test [feature], window_len)"
   ]
  },
  {
   "cell_type": "markdown",
   "id": "14b9164b-ffcd-4707-9d4c-2703f6cb1774",
   "metadata": {},
   "source": [
    "## Building the Recurrent Neural Network"
   ]
  },
  {
   "cell_type": "markdown",
   "id": "f5052ee9-84b6-476c-8fac-59d3109f28be",
   "metadata": {},
   "source": [
    "### Setup Keras"
   ]
  },
  {
   "cell_type": "code",
   "execution_count": 9,
   "id": "47386c29-822e-4843-9462-9ab925dffb74",
   "metadata": {},
   "outputs": [],
   "source": [
    "import os\n",
    "os.environ['TF_CPP_MIN_LOG_LEVEL'] = '2'"
   ]
  },
  {
   "cell_type": "code",
   "execution_count": 10,
   "id": "6c2859d9-079f-4f11-a432-fd02d9ede526",
   "metadata": {},
   "outputs": [
    {
     "name": "stdout",
     "output_type": "stream",
     "text": [
      "INFO:tensorflow:Enabling eager execution\n",
      "INFO:tensorflow:Enabling v2 tensorshape\n",
      "INFO:tensorflow:Enabling resource variables\n",
      "INFO:tensorflow:Enabling tensor equality\n",
      "INFO:tensorflow:Enabling control flow v2\n"
     ]
    }
   ],
   "source": [
    "import tensorflow as tf\n",
    "from tensorflow.keras import Sequential\n",
    "from tensorflow.keras.layers import Activation, Dense, Dropout, LSTM\n",
    "\n",
    "from tensorflow.compat.v1 import ConfigProto, InteractiveSession\n",
    "\n",
    "config = ConfigProto()\n",
    "config.gpu_options.allow_growth = True\n",
    "session = InteractiveSession(config=config)"
   ]
  },
  {
   "cell_type": "markdown",
   "id": "d7f24fd5-b9ea-40e8-98b9-77b566d5c234",
   "metadata": {},
   "source": [
    "### Initialising the RNN"
   ]
  },
  {
   "cell_type": "code",
   "execution_count": 11,
   "id": "0bfc85b6-7c2a-4e02-9b20-a9d97cb059ff",
   "metadata": {},
   "outputs": [],
   "source": [
    "def build_model(data, window_len):\n",
    "    model = Sequential()\n",
    "    # Layer 1, shape = (window length, no of features)\n",
    "    model.add(LSTM(units=50, return_sequences=True, input_shape=(window_len, len(data[0][0]))))\n",
    "    model.add(Dropout(0.2))\n",
    "    # Layer 2\n",
    "    model.add(LSTM(units=50, return_sequences=True))\n",
    "    model.add(Dropout(0.2))\n",
    "    # Layer 3\n",
    "    model.add(LSTM(units=50, return_sequences=True))\n",
    "    model.add(Dropout(0.2))\n",
    "    # Layer 4\n",
    "    model.add(LSTM(units=50))\n",
    "    model.add(Dropout(0.2))\n",
    "    # Output Layer\n",
    "    model.add(Dense(units=1))\n",
    "    model.add(Activation('linear'))\n",
    "    model.compile(optimizer='adam', loss='mean_squared_error')\n",
    "    return model\n",
    "\n",
    "model = build_model(X_train, window_len)"
   ]
  },
  {
   "cell_type": "markdown",
   "id": "2c398100-7b27-4028-ad2b-94fa1c2101ad",
   "metadata": {},
   "source": [
    "### Fitting the RNN to training set"
   ]
  },
  {
   "cell_type": "code",
   "execution_count": 12,
   "id": "971de10a-b677-4777-8a7c-5ae0285169bd",
   "metadata": {},
   "outputs": [
    {
     "name": "stdout",
     "output_type": "stream",
     "text": [
      "Epoch 1/20\n",
      "72/72 [==============================] - 10s 17ms/step - loss: 0.0125\n",
      "Epoch 2/20\n",
      "72/72 [==============================] - 1s 18ms/step - loss: 0.0077\n",
      "Epoch 3/20\n",
      "72/72 [==============================] - 1s 17ms/step - loss: 0.0058\n",
      "Epoch 4/20\n",
      "72/72 [==============================] - 1s 18ms/step - loss: 0.0043\n",
      "Epoch 5/20\n",
      "72/72 [==============================] - 1s 19ms/step - loss: 0.0041\n",
      "Epoch 6/20\n",
      "72/72 [==============================] - 1s 19ms/step - loss: 0.0031\n",
      "Epoch 7/20\n",
      "72/72 [==============================] - 1s 18ms/step - loss: 0.0030\n",
      "Epoch 8/20\n",
      "72/72 [==============================] - 1s 17ms/step - loss: 0.0029\n",
      "Epoch 9/20\n",
      "72/72 [==============================] - 1s 16ms/step - loss: 0.0028\n",
      "Epoch 10/20\n",
      "72/72 [==============================] - 1s 19ms/step - loss: 0.0029\n",
      "Epoch 11/20\n",
      "72/72 [==============================] - 1s 18ms/step - loss: 0.0028: 0s - loss: 0.0\n",
      "Epoch 12/20\n",
      "72/72 [==============================] - 1s 16ms/step - loss: 0.0028: 0\n",
      "Epoch 13/20\n",
      "72/72 [==============================] - 1s 15ms/step - loss: 0.0027\n",
      "Epoch 14/20\n",
      "72/72 [==============================] - 1s 16ms/step - loss: 0.0027: 0s - loss: 0.0\n",
      "Epoch 15/20\n",
      "72/72 [==============================] - 1s 16ms/step - loss: 0.0027\n",
      "Epoch 16/20\n",
      "72/72 [==============================] - 1s 16ms/step - loss: 0.0026\n",
      "Epoch 17/20\n",
      "72/72 [==============================] - 1s 16ms/step - loss: 0.0027\n",
      "Epoch 18/20\n",
      "72/72 [==============================] - 1s 17ms/step - loss: 0.0026\n",
      "Epoch 19/20\n",
      "72/72 [==============================] - 1s 17ms/step - loss: 0.0027\n",
      "Epoch 20/20\n",
      "72/72 [==============================] - 1s 16ms/step - loss: 0.0027\n"
     ]
    },
    {
     "data": {
      "text/plain": [
       "<tensorflow.python.keras.callbacks.History at 0x229350f9b50>"
      ]
     },
     "execution_count": 12,
     "metadata": {},
     "output_type": "execute_result"
    }
   ],
   "source": [
    "model.fit(X_train, y_train, epochs=20, batch_size=32, shuffle=False)"
   ]
  },
  {
   "cell_type": "markdown",
   "id": "84a0bec7-9f76-4aff-96da-78d7235eb667",
   "metadata": {},
   "source": [
    "## Testing the model"
   ]
  },
  {
   "cell_type": "code",
   "execution_count": 13,
   "id": "3beb6805-75ad-487c-beb2-038ccb05d5a0",
   "metadata": {},
   "outputs": [],
   "source": [
    "y_pred_scaled = model.predict(X_test).squeeze()"
   ]
  },
  {
   "cell_type": "markdown",
   "id": "74739855-46a0-4de8-aa02-ac67a40a908f",
   "metadata": {},
   "source": [
    "### Mean Error"
   ]
  },
  {
   "cell_type": "code",
   "execution_count": 14,
   "id": "473141f2-e8c3-490a-96b8-faa3a5dd1e85",
   "metadata": {},
   "outputs": [
    {
     "name": "stdout",
     "output_type": "stream",
     "text": [
      "Mean Error: 2.45%\n"
     ]
    }
   ],
   "source": [
    "from sklearn.metrics import mean_absolute_error\n",
    "\n",
    "print(f'Mean Error: {round(100*mean_absolute_error(y_pred_scaled, y_test), 2)}%')"
   ]
  },
  {
   "cell_type": "markdown",
   "id": "1cfa3985-4af2-44a6-8e90-559796c9ce9f",
   "metadata": {},
   "source": [
    "### Plotting Prediction vs Reality"
   ]
  },
  {
   "cell_type": "code",
   "execution_count": 15,
   "id": "40e98227-c120-48f8-a1d1-45c8a4f3b8d5",
   "metadata": {},
   "outputs": [],
   "source": [
    "y_pred = df_test[feature].values[:-window_len] * (y_pred_scaled + 1)\n",
    "\n",
    "\n",
    "y_pred = pd.Series(data=y_pred, index=df_test[feature][window_len:].index)"
   ]
  },
  {
   "cell_type": "code",
   "execution_count": 16,
   "id": "e3795817-01c8-4850-8361-85c054d22ec7",
   "metadata": {},
   "outputs": [
    {
     "data": {
      "application/vnd.jupyter.widget-view+json": {
       "model_id": "65f7e8b4af5f42228f1fa51be6c3ed90",
       "version_major": 2,
       "version_minor": 0
      },
      "text/plain": [
       "Canvas(toolbar=Toolbar(toolitems=[('Home', 'Reset original view', 'home', 'home'), ('Back', 'Back to previous …"
      ]
     },
     "metadata": {},
     "output_type": "display_data"
    },
    {
     "data": {
      "text/plain": [
       "<matplotlib.legend.Legend at 0x22987604370>"
      ]
     },
     "execution_count": 16,
     "metadata": {},
     "output_type": "execute_result"
    }
   ],
   "source": [
    "fig, ax = plt.subplots(figsize=(12, 5))\n",
    "\n",
    "ax.plot(df_test[feature][window_len:], label='Actual')\n",
    "ax.plot(y_pred, label='Prediction')\n",
    "\n",
    "ax.set_xlabel('Year', fontsize=12)\n",
    "ax.set_ylabel('Bitcoin Price (USD)', fontsize=12)\n",
    "ax.set_title('Closing Price of Bitcoin', fontsize=16)\n",
    "ax.legend(fontsize=12)"
   ]
  },
  {
   "cell_type": "code",
   "execution_count": 17,
   "id": "e574fbca-b997-4acd-805f-1781529a08ae",
   "metadata": {},
   "outputs": [],
   "source": [
    "# y_pred_train = regressor.predict(X_train)\n",
    "# y_pred_train = scaler.inverse_transform(y_pred_train)\n",
    "\n",
    "# # y_pred_train = pd.DataFrame(y_pred_train, index=train.index)\n",
    "# display(y_pred_train)\n",
    "# len(y_pred_train)"
   ]
  },
  {
   "cell_type": "code",
   "execution_count": 18,
   "id": "1486f4c0-0d11-4906-9112-9984b4b78547",
   "metadata": {},
   "outputs": [],
   "source": [
    "# y_pred_test = regressor.predict(X_test)\n",
    "# y_pred_test = scaler.inverse_transform(y_pred_test)\n",
    "\n",
    "# # y_pred_train = pd.DataFrame(y_pred_train, index=train.index)\n",
    "# display(y_pred_test)"
   ]
  },
  {
   "cell_type": "code",
   "execution_count": 19,
   "id": "73bd2ad3-67b8-4f6b-8be9-917fc3e02827",
   "metadata": {},
   "outputs": [],
   "source": [
    "# # Visualising the results\n",
    "\n",
    "# plt.plot(y_pred_test, color = 'blue', label = 'Predicted Stock Price')\n",
    "# plt.title('Stock Price Prediction')\n",
    "# plt.xlabel('Time')\n",
    "# plt.ylabel('TSLA Stock Price')\n",
    "# plt.legend()\n"
   ]
  }
 ],
 "metadata": {
  "kernelspec": {
   "display_name": "Python 3",
   "language": "python",
   "name": "python3"
  },
  "language_info": {
   "codemirror_mode": {
    "name": "ipython",
    "version": 3
   },
   "file_extension": ".py",
   "mimetype": "text/x-python",
   "name": "python",
   "nbconvert_exporter": "python",
   "pygments_lexer": "ipython3",
   "version": "3.9.4"
  }
 },
 "nbformat": 4,
 "nbformat_minor": 5
}
