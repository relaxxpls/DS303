{
 "cells": [
  {
   "cell_type": "markdown",
   "id": "persistent-customs",
   "metadata": {},
   "source": [
    "# Decision Tree Classifier\n",
    "Here we will attempt to classify the [*Pima Indians Diabetes Database*](https://www.kaggle.com/uciml/pima-indians-diabetes-database) using the [*Scikit Learn*](https://scikit-learn.org/stable/modules/tree.html) library, and then visualize our decision tree.   \n",
    "**Pros:** \n",
    "1. *Easy* to interpret and visualize, and require *less* data preprocessing (*eg:* there is no need to normalize columns)  \n",
    "2. Can *easily* capture Nonlinear Patterns  \n",
    "3. *Usefull* in variable selection and in feature engineering (*eg:* predicting missing values)  \n",
    "4. Makes no assumptions about the distribution (due to non parameteric nature of algorithm)  \n",
    "\n",
    "**Cons:**\n",
    "1. Does not support missing values, and can easily overfit noisy data (Pruning required)\n",
    "2. Biased with imbalanced dataset, thus its recommended to [balance the dataset](https://towardsdatascience.com/having-an-imbalanced-dataset-here-is-how-you-can-solve-it-1640568947eb) before creating the tree.\n",
    "\n",
    "Pruning: Method to *prevent overfitting* in Decision Tree by setting the minimum number of samples required at a leaf node or setting the maximum depth of the tree.  \n",
    "\n",
    "References: [datacamp](https://www.datacamp.com/community/tutorials/decision-tree-classification-python)"
   ]
  },
  {
   "cell_type": "code",
   "execution_count": 56,
   "id": "turkish-sustainability",
   "metadata": {},
   "outputs": [],
   "source": [
    "%matplotlib inline\n",
    "import seaborn as sns\n",
    "from matplotlib import pyplot as plt\n",
    "import pandas as pd\n",
    "from sklearn import model_selection, tree, metrics\n",
    "from graphviz import Source\n",
    "from ipywidgets import interactive\n",
    "from IPython.display import display, Image"
   ]
  },
  {
   "cell_type": "code",
   "execution_count": 3,
   "id": "decimal-island",
   "metadata": {},
   "outputs": [
    {
     "name": "stdout",
     "output_type": "stream",
     "text": [
      "rows, col:  (768, 9)\n"
     ]
    },
    {
     "data": {
      "text/html": [
       "<div>\n",
       "<style scoped>\n",
       "    .dataframe tbody tr th:only-of-type {\n",
       "        vertical-align: middle;\n",
       "    }\n",
       "\n",
       "    .dataframe tbody tr th {\n",
       "        vertical-align: top;\n",
       "    }\n",
       "\n",
       "    .dataframe thead th {\n",
       "        text-align: right;\n",
       "    }\n",
       "</style>\n",
       "<table border=\"1\" class=\"dataframe\">\n",
       "  <thead>\n",
       "    <tr style=\"text-align: right;\">\n",
       "      <th></th>\n",
       "      <th>Pregnancies</th>\n",
       "      <th>Glucose</th>\n",
       "      <th>BloodPressure</th>\n",
       "      <th>SkinThickness</th>\n",
       "      <th>Insulin</th>\n",
       "      <th>BMI</th>\n",
       "      <th>DiabetesPedigreeFunction</th>\n",
       "      <th>Age</th>\n",
       "      <th>Outcome</th>\n",
       "    </tr>\n",
       "  </thead>\n",
       "  <tbody>\n",
       "    <tr>\n",
       "      <th>0</th>\n",
       "      <td>6</td>\n",
       "      <td>148</td>\n",
       "      <td>72</td>\n",
       "      <td>35</td>\n",
       "      <td>0</td>\n",
       "      <td>33.6</td>\n",
       "      <td>0.627</td>\n",
       "      <td>50</td>\n",
       "      <td>1</td>\n",
       "    </tr>\n",
       "    <tr>\n",
       "      <th>1</th>\n",
       "      <td>1</td>\n",
       "      <td>85</td>\n",
       "      <td>66</td>\n",
       "      <td>29</td>\n",
       "      <td>0</td>\n",
       "      <td>26.6</td>\n",
       "      <td>0.351</td>\n",
       "      <td>31</td>\n",
       "      <td>0</td>\n",
       "    </tr>\n",
       "    <tr>\n",
       "      <th>2</th>\n",
       "      <td>8</td>\n",
       "      <td>183</td>\n",
       "      <td>64</td>\n",
       "      <td>0</td>\n",
       "      <td>0</td>\n",
       "      <td>23.3</td>\n",
       "      <td>0.672</td>\n",
       "      <td>32</td>\n",
       "      <td>1</td>\n",
       "    </tr>\n",
       "    <tr>\n",
       "      <th>3</th>\n",
       "      <td>1</td>\n",
       "      <td>89</td>\n",
       "      <td>66</td>\n",
       "      <td>23</td>\n",
       "      <td>94</td>\n",
       "      <td>28.1</td>\n",
       "      <td>0.167</td>\n",
       "      <td>21</td>\n",
       "      <td>0</td>\n",
       "    </tr>\n",
       "    <tr>\n",
       "      <th>4</th>\n",
       "      <td>0</td>\n",
       "      <td>137</td>\n",
       "      <td>40</td>\n",
       "      <td>35</td>\n",
       "      <td>168</td>\n",
       "      <td>43.1</td>\n",
       "      <td>2.288</td>\n",
       "      <td>33</td>\n",
       "      <td>1</td>\n",
       "    </tr>\n",
       "  </tbody>\n",
       "</table>\n",
       "</div>"
      ],
      "text/plain": [
       "   Pregnancies  Glucose  BloodPressure  SkinThickness  Insulin   BMI  \\\n",
       "0            6      148             72             35        0  33.6   \n",
       "1            1       85             66             29        0  26.6   \n",
       "2            8      183             64              0        0  23.3   \n",
       "3            1       89             66             23       94  28.1   \n",
       "4            0      137             40             35      168  43.1   \n",
       "\n",
       "   DiabetesPedigreeFunction  Age  Outcome  \n",
       "0                     0.627   50        1  \n",
       "1                     0.351   31        0  \n",
       "2                     0.672   32        1  \n",
       "3                     0.167   21        0  \n",
       "4                     2.288   33        1  "
      ]
     },
     "metadata": {},
     "output_type": "display_data"
    }
   ],
   "source": [
    "# Read the dataset (https://www.kaggle.com/uciml/pima-indians-diabetes-database)\n",
    "data = pd.read_csv('dataset/diabetes.csv')\n",
    "\n",
    "# Seperate dependant and independant variables\n",
    "X = data.drop('Outcome', axis='columns')  # Independant Features\n",
    "y = data['Outcome']  # Dependant Features\n",
    "\n",
    "print(\"rows, col: \", data.shape)\n",
    "display(data.head())"
   ]
  },
  {
   "cell_type": "markdown",
   "id": "equal-camera",
   "metadata": {},
   "source": [
    "Note: In case values weren't numbers (eg: names), import [*LabelEncoder*](https://scikit-learn.org/stable/modules/generated/sklearn.preprocessing.LabelEncoder.html) from [*sklearn.preprocessing*](https://scikit-learn.org/stable/modules/preprocessing.html#preprocessing) and use the *fit_transform* function."
   ]
  },
  {
   "cell_type": "code",
   "execution_count": 55,
   "id": "automatic-reliance",
   "metadata": {},
   "outputs": [
    {
     "name": "stdout",
     "output_type": "stream",
     "text": [
      "Accuracy:  0.7922077922077922\n"
     ]
    },
    {
     "data": {
      "text/plain": [
       "(Text(0.5, 16.0, 'Predicted Label'), Text(34.0, 0.5, 'Truth Label'))"
      ]
     },
     "execution_count": 55,
     "metadata": {},
     "output_type": "execute_result"
    },
    {
     "data": {
      "image/png": "[encoded data removed]",
      "text/plain": [
       "<Figure size 432x288 with 2 Axes>"
      ]
     },
     "metadata": {
      "needs_background": "light"
     },
     "output_type": "display_data"
    }
   ],
   "source": [
    "# Split Training Data and Test Data for analysing performance (30% test)\n",
    "X_train, X_test, y_train, y_test = model_selection.train_test_split(X, y, test_size=0.3, random_state=1)\n",
    "\n",
    "# Create Decision Tree Classifer object\n",
    "clf = tree.DecisionTreeClassifier(criterion=\"entropy\", max_depth=4)  # Pre-pruning by controlling depth\n",
    "clf.fit(X_train, y_train)  # Train Decision Tree Classifier\n",
    "\n",
    "y_pred = clf.predict(X_test)  # Predict response for test dataset\n",
    "\n",
    "print(\"Accuracy: \", metrics.accuracy_score(y_test, y_pred))  # Print the accuracy on our model\n",
    "\n",
    "# Plotting a confusion matrix (x-axis = prediction, y-axis = actual ans) to visualise our accuracy\n",
    "cm = metrics.confusion_matrix(y_test, y_pred)\n",
    "sns.heatmap(cm, annot=True, annot_kws={\"size\": 16})\n",
    "plt.xlabel('Predicted Label', size=18), plt.ylabel('Truth Label', size=18)"
   ]
  },
  {
   "cell_type": "code",
   "execution_count": 5,
   "id": "legitimate-yellow",
   "metadata": {},
   "outputs": [
    {
     "data": {
      "application/vnd.jupyter.widget-view+json": {
       "model_id": "642df6b6907d4026877f3b0d626dd7e4",
       "version_major": 2,
       "version_minor": 0
      },
      "text/plain": [
       "interactive(children=(IntSlider(value=5, description='depth', max=10, min=1), Output()), _dom_classes=('widget…"
      ]
     },
     "metadata": {},
     "output_type": "display_data"
    }
   ],
   "source": [
    "# Visualizing our tree, and experimenting with its depth\n",
    "def plot_tree(depth):\n",
    "    # Test sample data and calculate and display our accuracy score\n",
    "    clf = tree.DecisionTreeClassifier(random_state=0, max_depth=depth)\n",
    "    clf.fit(X_train, y_train)\n",
    "    y_pred = clf.predict(X_test)\n",
    "    print(\"Accuracy:\", metrics.accuracy_score(y_test, y_pred))\n",
    "\n",
    "    # Display our tree in the form of a graph\n",
    "    graph = Source(tree.export_graphviz(clf, out_file=None, feature_names=X.columns.values,\n",
    "                                        class_names=['0', '1'], filled=True, rounded=True))\n",
    "    display(Image(graph.pipe(format='png')))\n",
    "\n",
    "\n",
    "display(interactive(plot_tree, depth=(1, 10)))  # Interactive IPython slider for depth"
   ]
  },
  {
   "cell_type": "code",
   "execution_count": null,
   "id": "empirical-marking",
   "metadata": {},
   "outputs": [],
   "source": []
  }
 ],
 "metadata": {
  "kernelspec": {
   "display_name": "Python 3",
   "language": "python",
   "name": "python3"
  },
  "language_info": {
   "codemirror_mode": {
    "name": "ipython",
    "version": 3
   },
   "file_extension": ".py",
   "mimetype": "text/x-python",
   "name": "python",
   "nbconvert_exporter": "python",
   "pygments_lexer": "ipython3",
   "version": "3.9.1"
  }
 },
 "nbformat": 4,
 "nbformat_minor": 5
}
